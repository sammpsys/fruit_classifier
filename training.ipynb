{
 "cells": [
  {
   "cell_type": "code",
   "execution_count": 1,
   "id": "every-parcel",
   "metadata": {},
   "outputs": [],
   "source": [
    "import torch\n",
    "import matplotlib.pyplot as plt\n",
    "import numpy as np\n",
    "from torch import nn\n",
    "from torch import optim\n",
    "import torch.nn.functional as F\n",
    "import time\n",
    "import glob\n",
    "from PIL import Image\n",
    "\n",
    "from torchvision.datasets import ImageFolder \n",
    "from torch.utils.data import DataLoader\n",
    "from torchvision.transforms import Resize, ToTensor, Normalize, Compose\n",
    "from torchvision import models\n"
   ]
  },
  {
   "cell_type": "code",
   "execution_count": 2,
   "id": "arabic-hours",
   "metadata": {},
   "outputs": [],
   "source": [
    "#path to dataset\n",
    "train_path='images/train'\n",
    "val_path='images/val'"
   ]
  },
  {
   "cell_type": "code",
   "execution_count": 3,
   "id": "certain-virtue",
   "metadata": {},
   "outputs": [],
   "source": [
    "#resize and load images\n",
    "vgg_train_dataset = ImageFolder(train_path, transform=Compose([\n",
    "    Resize((224, 224)),\n",
    "    ToTensor(),\n",
    "    Normalize([0.485, 0.456, 0.406], [0.229, 0.224, 0.225])\n",
    "]))\n",
    "vgg_train_loader = DataLoader(vgg_train_dataset, batch_size=16, shuffle=True)\n",
    "\n",
    "vgg_val_dataset = ImageFolder(val_path, transform=Compose([\n",
    "    Resize((224,224)),\n",
    "    ToTensor(),\n",
    "    Normalize([0.485, 0.456, 0.406], [0.229, 0.224, 0.225])\n",
    "]))\n",
    "vgg_val_loader = DataLoader(vgg_val_dataset, batch_size=16)"
   ]
  },
  {
   "cell_type": "code",
   "execution_count": 4,
   "id": "illegal-anger",
   "metadata": {},
   "outputs": [],
   "source": [
    "#training function\n",
    "device = torch.device(\"cuda\" if torch.cuda.is_available() \n",
    "                                  else \"cpu\")\n",
    "\n",
    "def train(model, datasets, loaders, num_epochs, loss_fn, optimizer, silent=False):\n",
    "    train_dataset = datasets[0]\n",
    "    val_dataset = datasets[1]\n",
    "    train_loader = loaders[0]\n",
    "    val_loader = loaders[1]\n",
    "    \n",
    "    train_accuracy = np.zeros(num_epochs)\n",
    "    train_avg_loss = np.zeros(num_epochs)\n",
    "    val_accuracy = np.zeros(num_epochs)\n",
    "    val_avg_loss = np.zeros(num_epochs)\n",
    "    \n",
    "    for epoch in range(num_epochs):\n",
    "        start_time = time.time()\n",
    "        \n",
    "        losses = []\n",
    "        n_correct = 0\n",
    "        for b_x, b_y in train_loader:\n",
    "            b_x = b_x.to(device)\n",
    "            b_y = b_y.to(device)\n",
    "\n",
    "            # Compute predictions and losses\n",
    "            pred = model(b_x)\n",
    "            loss = loss_fn(pred, b_y)\n",
    "            losses.append(loss.item())\n",
    "\n",
    "            # Count number of correct predictions\n",
    "            hard_preds = pred.argmax(dim=1)\n",
    "            n_correct += torch.sum(pred.argmax(dim=1) == b_y).item()\n",
    "\n",
    "            # Backpropagate\n",
    "            loss.backward()\n",
    "            optimizer.step()\n",
    "            optimizer.zero_grad()    \n",
    "\n",
    "        # Compute accuracy and loss in the entire training set\n",
    "        train_accuracy[epoch] = n_correct/len(train_dataset)\n",
    "        train_avg_loss[epoch] = sum(losses)/len(losses)    \n",
    "\n",
    "        # Compute accuracy and loss in the entire validation set\n",
    "        #val_accuracy[epoch], val_avg_loss[epoch] = evaluate_model(val_loader, model, loss_fn)\n",
    "        losses = []\n",
    "        n_correct = 0\n",
    "        with torch.no_grad():\n",
    "            for b_x, b_y in val_loader:\n",
    "                b_x = b_x.to(device)\n",
    "                b_y = b_y.to(device)\n",
    "                \n",
    "                pred = model(b_x)\n",
    "                loss = loss_fn(pred, b_y)\n",
    "                losses.append(loss.item())\n",
    "\n",
    "                hard_preds = pred.argmax(dim=1)\n",
    "                n_correct += torch.sum(pred.argmax(dim=1) == b_y).item()\n",
    "            val_accuracy[epoch] = n_correct/len(val_dataset)\n",
    "            val_avg_loss[epoch] = sum(losses)/len(losses)\n",
    "\n",
    "        if not silent:\n",
    "            # Display metrics\n",
    "            display_str = 'Epoch {} ({:.1f}s) '\n",
    "            display_str += '\\tLoss: {:.3f} '\n",
    "            display_str += '\\tLoss (val): {:.3f}'\n",
    "            display_str += '\\tAccuracy: {:.2f} '\n",
    "            display_str += '\\tAccuracy (val): {:.2f}'\n",
    "            print(display_str.format(epoch, time.time() - start_time, train_avg_loss[epoch],\n",
    "                                     val_avg_loss[epoch], train_accuracy[epoch], val_accuracy[epoch]))\n",
    "            \n",
    "    return train_accuracy, val_accuracy, train_avg_loss, val_avg_loss\n"
   ]
  },
  {
   "cell_type": "code",
   "execution_count": 5,
   "id": "comparative-traveler",
   "metadata": {},
   "outputs": [],
   "source": [
    "#load vgg 16 model\n",
    "vgg_model = models.vgg16(pretrained=True)"
   ]
  },
  {
   "cell_type": "code",
   "execution_count": 7,
   "id": "coordinated-mistake",
   "metadata": {},
   "outputs": [
    {
     "name": "stdout",
     "output_type": "stream",
     "text": [
      "Epoch 0 (461.9s) \tLoss: 0.180 \tLoss (val): 0.095\tAccuracy: 0.95 \tAccuracy (val): 0.97\n",
      "Epoch 1 (472.6s) \tLoss: 0.035 \tLoss (val): 0.091\tAccuracy: 1.00 \tAccuracy (val): 0.97\n",
      "Epoch 2 (487.8s) \tLoss: 0.016 \tLoss (val): 0.081\tAccuracy: 1.00 \tAccuracy (val): 0.98\n",
      "Epoch 3 (483.8s) \tLoss: 0.008 \tLoss (val): 0.081\tAccuracy: 1.00 \tAccuracy (val): 0.97\n",
      "Epoch 4 (487.7s) \tLoss: 0.005 \tLoss (val): 0.081\tAccuracy: 1.00 \tAccuracy (val): 0.97\n",
      "Epoch 5 (478.0s) \tLoss: 0.004 \tLoss (val): 0.081\tAccuracy: 1.00 \tAccuracy (val): 0.97\n",
      "Epoch 6 (476.6s) \tLoss: 0.003 \tLoss (val): 0.081\tAccuracy: 1.00 \tAccuracy (val): 0.98\n",
      "Epoch 7 (475.3s) \tLoss: 0.002 \tLoss (val): 0.083\tAccuracy: 1.00 \tAccuracy (val): 0.97\n",
      "Epoch 8 (476.3s) \tLoss: 0.002 \tLoss (val): 0.083\tAccuracy: 1.00 \tAccuracy (val): 0.98\n",
      "Epoch 9 (487.4s) \tLoss: 0.001 \tLoss (val): 0.086\tAccuracy: 1.00 \tAccuracy (val): 0.97\n"
     ]
    }
   ],
   "source": [
    "#Train model\n",
    "num_features = vgg_model.classifier[0].in_features\n",
    "new_top = nn.Sequential(nn.Linear(num_features, 8), nn.ReLU(), nn.Linear(8, 2), nn.LogSoftmax(dim=1))\n",
    "vgg_model.classifier = new_top\n",
    "for param in vgg_model.features.parameters():\n",
    "    param.requires_grad = False\n",
    "vgg_model.to(device)\n",
    "vgg_train_acc, vgg_val_acc, vgg_train_loss, vgg_val_loss = train(\n",
    "    vgg_model,\n",
    "    [vgg_train_dataset, vgg_val_dataset],\n",
    "    [vgg_train_loader, vgg_val_loader],\n",
    "    10, nn.NLLLoss(), optim.Adam(vgg_model.parameters(), lr=0.0001)\n",
    ")"
   ]
  },
  {
   "cell_type": "code",
   "execution_count": 8,
   "id": "southwest-palace",
   "metadata": {},
   "outputs": [],
   "source": [
    "#Save model\n",
    "torch.save(vgg_model.state_dict(), 'my_fruit_vgg')"
   ]
  },
  {
   "cell_type": "code",
   "execution_count": null,
   "id": "federal-rating",
   "metadata": {},
   "outputs": [],
   "source": []
  }
 ],
 "metadata": {
  "kernelspec": {
   "display_name": "Python 3 (ipykernel)",
   "language": "python",
   "name": "python3"
  },
  "language_info": {
   "codemirror_mode": {
    "name": "ipython",
    "version": 3
   },
   "file_extension": ".py",
   "mimetype": "text/x-python",
   "name": "python",
   "nbconvert_exporter": "python",
   "pygments_lexer": "ipython3",
   "version": "3.9.7"
  }
 },
 "nbformat": 4,
 "nbformat_minor": 5
}
